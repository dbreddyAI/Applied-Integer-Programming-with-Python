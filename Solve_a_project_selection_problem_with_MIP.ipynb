{
  "nbformat": 4,
  "nbformat_minor": 0,
  "metadata": {
    "colab": {
      "name": "Solve a project selection problem with MIP.ipynb",
      "provenance": [],
      "collapsed_sections": []
    },
    "kernelspec": {
      "name": "python3",
      "display_name": "Python 3"
    }
  },
  "cells": [
    {
      "cell_type": "markdown",
      "metadata": {
        "id": "QKkFlTh0t7oL",
        "colab_type": "text"
      },
      "source": [
        "Jimmy plans to invest in several stocks in the coming 3 years, each with a\n",
        "different expected return for each dollar invested and a specific amount of\n",
        "investment, as shown in table (all in thousands of dollars). Given that the\n",
        "amount Jimmy can invest in stock purchases is limited each year, help Jimmy\n",
        "to decide which stocks to invest in each year so as to maximize the total returns."
      ]
    },
    {
      "cell_type": "code",
      "metadata": {
        "id": "oFyf6w2QzHmM",
        "colab_type": "code",
        "outputId": "e3baf806-3aaf-40bf-c5ff-fde03354e071",
        "colab": {
          "base_uri": "https://localhost:8080/",
          "height": 88
        }
      },
      "source": [
        "pip install mip==1.4.2"
      ],
      "execution_count": 90,
      "outputs": [
        {
          "output_type": "stream",
          "text": [
            "Requirement already satisfied: mip==1.4.2 in /usr/local/lib/python3.6/dist-packages (1.4.2)\n",
            "Requirement already satisfied: cffi in /usr/local/lib/python3.6/dist-packages (from mip==1.4.2) (1.13.2)\n",
            "Requirement already satisfied: pycparser in /usr/local/lib/python3.6/dist-packages (from cffi->mip==1.4.2) (2.19)\n"
          ],
          "name": "stdout"
        }
      ]
    },
    {
      "cell_type": "code",
      "metadata": {
        "id": "lrY4ssZuzbaS",
        "colab_type": "code",
        "colab": {}
      },
      "source": [
        "from mip.model import *"
      ],
      "execution_count": 0,
      "outputs": []
    },
    {
      "cell_type": "markdown",
      "metadata": {
        "id": "GRhHOGurvjeU",
        "colab_type": "text"
      },
      "source": [
        "*   c[i] is the return of each stock \n",
        "*   a[t][i] is the investment of each stock for year t\n",
        "*   b[t] is the total investment limit each year\n",
        "\n",
        "with i = 0, 1, 2, 3, 4;\n",
        "> t = 0, 1, 2\n",
        "\n",
        "\n",
        "\n",
        "\n",
        "\n",
        "\n"
      ]
    },
    {
      "cell_type": "code",
      "metadata": {
        "id": "MS1InapvkfQi",
        "colab_type": "code",
        "colab": {}
      },
      "source": [
        "c = [90, 120, 100, 80, 130]\n",
        "b = [45, 60, 50]\n",
        "a = [[10, 15, 12, 9, 13],\n",
        "     [20, 15, 25, 15, 10],\n",
        "     [15, 20, 20, 15, 10]]\n",
        "T, I = range(len(b)),range(len(c))"
      ],
      "execution_count": 0,
      "outputs": []
    },
    {
      "cell_type": "code",
      "metadata": {
        "id": "gXGPcIb-IAzM",
        "colab_type": "code",
        "colab": {
          "base_uri": "https://localhost:8080/",
          "height": 34
        },
        "outputId": "734c2acc-fa16-4e98-e51b-67d24784592d"
      },
      "source": [
        "a[0][1]"
      ],
      "execution_count": 93,
      "outputs": [
        {
          "output_type": "execute_result",
          "data": {
            "text/plain": [
              "15"
            ]
          },
          "metadata": {
            "tags": []
          },
          "execution_count": 93
        }
      ]
    },
    {
      "cell_type": "markdown",
      "metadata": {
        "id": "YZ4t_kk27mnW",
        "colab_type": "text"
      },
      "source": [
        "Create an empty Mixed Integer Linear Programmning problem. The optimization sense is set to Maximize and the selected sovler is set to Cbc (Coin-or branch and cut)"
      ]
    },
    {
      "cell_type": "code",
      "metadata": {
        "id": "26JAdkr9zrPO",
        "colab_type": "code",
        "colab": {}
      },
      "source": [
        "m = Model(sense = MAXIMIZE,solver_name=CBC)\n"
      ],
      "execution_count": 0,
      "outputs": []
    },
    {
      "cell_type": "markdown",
      "metadata": {
        "id": "JLH0AVo-8hMj",
        "colab_type": "text"
      },
      "source": [
        "Create variables with *add_var()* \n",
        "Crate a vector of variables with n binary decision variables (n = 5) indicating whether a stock is selected or not. "
      ]
    },
    {
      "cell_type": "code",
      "metadata": {
        "id": "YqM-enwxah-b",
        "colab_type": "code",
        "colab": {}
      },
      "source": [
        "names = ['A','B','C','D','E']"
      ],
      "execution_count": 0,
      "outputs": []
    },
    {
      "cell_type": "code",
      "metadata": {
        "id": "A5_l2IqI8pVA",
        "colab_type": "code",
        "colab": {}
      },
      "source": [
        "\n",
        "x = [[m.add_var(name = names[i], var_type=BINARY) for i in I] for t in T] "
      ],
      "execution_count": 0,
      "outputs": []
    },
    {
      "cell_type": "code",
      "metadata": {
        "id": "UXty8FSvCcVd",
        "colab_type": "code",
        "colab": {
          "base_uri": "https://localhost:8080/",
          "height": 34
        },
        "outputId": "634340d7-aa61-40d4-8fea-5fd9e7eb93e9"
      },
      "source": [
        "sum(x[t][i] for i in I for t in T)"
      ],
      "execution_count": 97,
      "outputs": [
        {
          "output_type": "execute_result",
          "data": {
            "text/plain": [
              "<mip.model.LinExpr at 0x7f48201375f8>"
            ]
          },
          "metadata": {
            "tags": []
          },
          "execution_count": 97
        }
      ]
    },
    {
      "cell_type": "markdown",
      "metadata": {
        "id": "BagdtX0TxEfs",
        "colab_type": "text"
      },
      "source": [
        "> Objective is to maximize the total return\n",
        "\n",
        "\n",
        "\n",
        "\n",
        "> Use *xsum()* for summation expressions\n",
        "\n"
      ]
    },
    {
      "cell_type": "code",
      "metadata": {
        "id": "Vg4nRkcLoBxc",
        "colab_type": "code",
        "colab": {}
      },
      "source": [
        "m.objective = maximize(xsum(c[i] * x[t][i] for i in I for t in T))"
      ],
      "execution_count": 0,
      "outputs": []
    },
    {
      "cell_type": "markdown",
      "metadata": {
        "id": "75ng1LmDxQdI",
        "colab_type": "text"
      },
      "source": [
        "Add constraint in money available each year"
      ]
    },
    {
      "cell_type": "code",
      "metadata": {
        "id": "_rK-ouASn7nn",
        "colab_type": "code",
        "colab": {}
      },
      "source": [
        " for t in range(3):\n",
        "  m += xsum(a[t][i] * x[t][i] for i in I) <= b[t]"
      ],
      "execution_count": 0,
      "outputs": []
    },
    {
      "cell_type": "markdown",
      "metadata": {
        "id": "RnmlY4pByADF",
        "colab_type": "text"
      },
      "source": [
        "> Optimize() method executes the optimization of a formulation. \n",
        "\n",
        "\n",
        "> optimize method returns the status (OptimizationStatus) of the search.\n",
        "\n",
        "\n",
        "> OPTIMAL if the search was concluded and the optimal solution was found.\n",
        "\n",
        "\n",
        "\n",
        "\n",
        "\n"
      ]
    },
    {
      "cell_type": "code",
      "metadata": {
        "id": "xlNds9xMq4cH",
        "colab_type": "code",
        "colab": {}
      },
      "source": [
        "status = m.optimize()"
      ],
      "execution_count": 0,
      "outputs": []
    },
    {
      "cell_type": "code",
      "metadata": {
        "id": "u_BVsQzsrhVS",
        "colab_type": "code",
        "outputId": "3bb33197-03de-4dcc-cdef-10bcabeabc24",
        "colab": {
          "base_uri": "https://localhost:8080/",
          "height": 34
        }
      },
      "source": [
        "if status == OptimizationStatus.OPTIMAL:\n",
        "  print('optimal solution cost {} found'.format(m.objective_value))"
      ],
      "execution_count": 116,
      "outputs": [
        {
          "output_type": "stream",
          "text": [
            "optimal solution cost 1170.0 found\n"
          ],
          "name": "stdout"
        }
      ]
    },
    {
      "cell_type": "code",
      "metadata": {
        "id": "mcmprBg2hjy1",
        "colab_type": "code",
        "colab": {
          "base_uri": "https://localhost:8080/",
          "height": 68
        },
        "outputId": "3357d884-3e30-478c-fc0d-a47dcde3f148"
      },
      "source": [
        "results = {}\n",
        "for i in range(3):\n",
        "  results[i+1] = [m.vars[j].x for j in range(5*i,5*i+5)]\n",
        "\n",
        "results"
      ],
      "execution_count": 109,
      "outputs": [
        {
          "output_type": "execute_result",
          "data": {
            "text/plain": [
              "{1: [1.0, 0.0, 1.0, 1.0, 1.0],\n",
              " 2: [1.0, 1.0, 0.0, 1.0, 1.0],\n",
              " 3: [0.0, 1.0, 1.0, 0.0, 1.0]}"
            ]
          },
          "metadata": {
            "tags": []
          },
          "execution_count": 109
        }
      ]
    },
    {
      "cell_type": "code",
      "metadata": {
        "id": "ifjfkvIRqL2b",
        "colab_type": "code",
        "colab": {
          "base_uri": "https://localhost:8080/",
          "height": 204
        },
        "outputId": "1946cf94-5c7b-4b65-e76a-0860c9d3b01c"
      },
      "source": [
        "import pandas as pd\n",
        "\n",
        "result = pd.DataFrame(data = results, index = ['A','B','C','D','E'])\n",
        "\n",
        "result"
      ],
      "execution_count": 114,
      "outputs": [
        {
          "output_type": "execute_result",
          "data": {
            "text/html": [
              "<div>\n",
              "<style scoped>\n",
              "    .dataframe tbody tr th:only-of-type {\n",
              "        vertical-align: middle;\n",
              "    }\n",
              "\n",
              "    .dataframe tbody tr th {\n",
              "        vertical-align: top;\n",
              "    }\n",
              "\n",
              "    .dataframe thead th {\n",
              "        text-align: right;\n",
              "    }\n",
              "</style>\n",
              "<table border=\"1\" class=\"dataframe\">\n",
              "  <thead>\n",
              "    <tr style=\"text-align: right;\">\n",
              "      <th></th>\n",
              "      <th>1</th>\n",
              "      <th>2</th>\n",
              "      <th>3</th>\n",
              "    </tr>\n",
              "  </thead>\n",
              "  <tbody>\n",
              "    <tr>\n",
              "      <th>A</th>\n",
              "      <td>1.0</td>\n",
              "      <td>1.0</td>\n",
              "      <td>0.0</td>\n",
              "    </tr>\n",
              "    <tr>\n",
              "      <th>B</th>\n",
              "      <td>0.0</td>\n",
              "      <td>1.0</td>\n",
              "      <td>1.0</td>\n",
              "    </tr>\n",
              "    <tr>\n",
              "      <th>C</th>\n",
              "      <td>1.0</td>\n",
              "      <td>0.0</td>\n",
              "      <td>1.0</td>\n",
              "    </tr>\n",
              "    <tr>\n",
              "      <th>D</th>\n",
              "      <td>1.0</td>\n",
              "      <td>1.0</td>\n",
              "      <td>0.0</td>\n",
              "    </tr>\n",
              "    <tr>\n",
              "      <th>E</th>\n",
              "      <td>1.0</td>\n",
              "      <td>1.0</td>\n",
              "      <td>1.0</td>\n",
              "    </tr>\n",
              "  </tbody>\n",
              "</table>\n",
              "</div>"
            ],
            "text/plain": [
              "     1    2    3\n",
              "A  1.0  1.0  0.0\n",
              "B  0.0  1.0  1.0\n",
              "C  1.0  0.0  1.0\n",
              "D  1.0  1.0  0.0\n",
              "E  1.0  1.0  1.0"
            ]
          },
          "metadata": {
            "tags": []
          },
          "execution_count": 114
        }
      ]
    },
    {
      "cell_type": "markdown",
      "metadata": {
        "id": "RPxOwoI9uw5k",
        "colab_type": "text"
      },
      "source": [
        "Visualize the result"
      ]
    },
    {
      "cell_type": "code",
      "metadata": {
        "id": "9H69b3c1rxPN",
        "colab_type": "code",
        "colab": {
          "base_uri": "https://localhost:8080/",
          "height": 367
        },
        "outputId": "2490373c-ef2a-4f2a-b029-7e92832d3c95"
      },
      "source": [
        "import matplotlib.pyplot as plt\n",
        "\n",
        "result.plot(kind='bar', subplots = True, title = ['Year 1', 'Year 2', 'Year 3'])"
      ],
      "execution_count": 125,
      "outputs": [
        {
          "output_type": "execute_result",
          "data": {
            "text/plain": [
              "array([<matplotlib.axes._subplots.AxesSubplot object at 0x7f480fbfd2b0>,\n",
              "       <matplotlib.axes._subplots.AxesSubplot object at 0x7f480fbd5be0>,\n",
              "       <matplotlib.axes._subplots.AxesSubplot object at 0x7f480fb84e10>],\n",
              "      dtype=object)"
            ]
          },
          "metadata": {
            "tags": []
          },
          "execution_count": 125
        },
        {
          "output_type": "display_data",
          "data": {
            "image/png": "[encoded data removed]",
            "text/plain": [
              "<Figure size 432x288 with 3 Axes>"
            ]
          },
          "metadata": {
            "tags": []
          }
        }
      ]
    }
  ]
}