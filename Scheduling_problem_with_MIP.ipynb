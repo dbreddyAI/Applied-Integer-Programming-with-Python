{
  "nbformat": 4,
  "nbformat_minor": 0,
  "metadata": {
    "colab": {
      "name": "Scheduling problem with MIP.ipynb",
      "provenance": [],
      "collapsed_sections": [],
      "include_colab_link": true
    },
    "kernelspec": {
      "name": "python3",
      "display_name": "Python 3"
    }
  },
  "cells": [
    {
      "cell_type": "markdown",
      "metadata": {
        "id": "view-in-github",
        "colab_type": "text"
      },
      "source": [
        "<a href=\"https://colab.research.google.com/github/khuyentran1401/Applied-Integer-Programming-with-Python/blob/master/Scheduling_problem_with_MIP.ipynb\" target=\"_parent\"><img src=\"https://colab.research.google.com/assets/colab-badge.svg\" alt=\"Open In Colab\"/></a>"
      ]
    },
    {
      "cell_type": "code",
      "metadata": {
        "id": "PkF03fpPf8rk",
        "colab_type": "code",
        "colab": {
          "base_uri": "https://localhost:8080/",
          "height": 88
        },
        "outputId": "e2b31563-c257-44c9-cf77-03255d8ab1c0"
      },
      "source": [
        "pip install mip==1.4.2"
      ],
      "execution_count": 30,
      "outputs": [
        {
          "output_type": "stream",
          "text": [
            "Requirement already satisfied: mip==1.4.2 in /usr/local/lib/python3.6/dist-packages (1.4.2)\n",
            "Requirement already satisfied: cffi in /usr/local/lib/python3.6/dist-packages (from mip==1.4.2) (1.13.2)\n",
            "Requirement already satisfied: pycparser in /usr/local/lib/python3.6/dist-packages (from cffi->mip==1.4.2) (2.19)\n"
          ],
          "name": "stdout"
        }
      ]
    },
    {
      "cell_type": "code",
      "metadata": {
        "id": "dEH9Uzr1f_PP",
        "colab_type": "code",
        "colab": {}
      },
      "source": [
        "from mip.model import *"
      ],
      "execution_count": 0,
      "outputs": []
    },
    {
      "cell_type": "code",
      "metadata": {
        "id": "vemEk5eghZkb",
        "colab_type": "code",
        "colab": {}
      },
      "source": [
        "a = [[1, 0, 1, 0, 0],\n",
        "     [1, 0, 0, 0, 1],\n",
        "     [0, 0, 1, 1, 0],\n",
        "     [0, 1, 0, 0, 1],\n",
        "     [0, 1, 0, 1, 1],\n",
        "     [0, 1, 0, 1, 0],\n",
        "     [1, 0, 1, 0, 0]]\n",
        "\n",
        "w = [525, 470, 550, 500, 425]\n",
        "\n",
        "d = [20, 25, 26, 26, 30, 30, 35]\n",
        "\n",
        "T, I = range(len(d)), range(len(w))"
      ],
      "execution_count": 0,
      "outputs": []
    },
    {
      "cell_type": "code",
      "metadata": {
        "id": "kOdwch8ugFNu",
        "colab_type": "code",
        "colab": {}
      },
      "source": [
        "m = Model(solver_name=CBC)"
      ],
      "execution_count": 0,
      "outputs": []
    },
    {
      "cell_type": "code",
      "metadata": {
        "id": "MHAYypgghXt7",
        "colab_type": "code",
        "colab": {}
      },
      "source": [
        "schedule = ['1', '2', '3', '4', '5']\n",
        "x = [m.add_var(name = schedule[i], var_type=INTEGER) for i in I]"
      ],
      "execution_count": 0,
      "outputs": []
    },
    {
      "cell_type": "code",
      "metadata": {
        "id": "e9YJUG__kZB0",
        "colab_type": "code",
        "colab": {}
      },
      "source": [
        "m.objective = minimize(xsum(w[i] * x[i] for i in I))"
      ],
      "execution_count": 0,
      "outputs": []
    },
    {
      "cell_type": "code",
      "metadata": {
        "id": "PSPpI91gk6mf",
        "colab_type": "code",
        "colab": {}
      },
      "source": [
        "for t in T:\n",
        "  m += xsum(a[t][i] * x[i] for i in I) >= d[t]"
      ],
      "execution_count": 0,
      "outputs": []
    },
    {
      "cell_type": "code",
      "metadata": {
        "id": "NXERd4lRmNzW",
        "colab_type": "code",
        "colab": {}
      },
      "source": [
        "status = m.optimize()"
      ],
      "execution_count": 0,
      "outputs": []
    },
    {
      "cell_type": "code",
      "metadata": {
        "id": "S2pPt_EwmUmr",
        "colab_type": "code",
        "colab": {
          "base_uri": "https://localhost:8080/",
          "height": 136
        },
        "outputId": "62981818-165a-4f6a-f22e-55de6394d504"
      },
      "source": [
        "if status == OptimizationStatus.OPTIMAL:\n",
        "  print('optimal solution cost {} found'.format(m.objective_value))\n",
        "\n",
        "  print('solution:')\n",
        "  for v in m.vars:\n",
        "    print('{}:{}'.format(v.name, v.x))"
      ],
      "execution_count": 38,
      "outputs": [
        {
          "output_type": "stream",
          "text": [
            "optimal solution cost 35725.0 found\n",
            "solution:\n",
            "1:19.0\n",
            "2:20.0\n",
            "3:16.0\n",
            "4:10.0\n",
            "5:6.0\n"
          ],
          "name": "stdout"
        }
      ]
    }
  ]
}